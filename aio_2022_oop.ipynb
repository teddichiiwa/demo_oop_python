{
 "cells": [
  {
   "cell_type": "code",
   "execution_count": 40,
   "metadata": {},
   "outputs": [
    {
     "ename": "SyntaxError",
     "evalue": "invalid syntax (2479225702.py, line 28)",
     "output_type": "error",
     "traceback": [
      "\u001b[0;36m  Input \u001b[0;32mIn [40]\u001b[0;36m\u001b[0m\n\u001b[0;31m    super().__init__(name=name, color=color, origin=origin, speakWord='Meo meo'!)\u001b[0m\n\u001b[0m                                                                               ^\u001b[0m\n\u001b[0;31mSyntaxError\u001b[0m\u001b[0;31m:\u001b[0m invalid syntax\n"
     ]
    }
   ],
   "source": [
    "# kế thừa: \n",
    "# 1: tất cả\n",
    "# 2: 1 phần\n",
    "\n",
    "class Animal:\n",
    "    def __init__(self, name, color, origin, speakWord):\n",
    "        self.name = name \n",
    "        self.color = color\n",
    "        self.origin = origin\n",
    "        # demo bien private\n",
    "        self.__speak = speakWord\n",
    "    \n",
    "    def speak(self):\n",
    "        return self.__speak\n",
    "\n",
    "    def print_a_picture(self):\n",
    "        return f'Your {type(self).__name__} name is: {self.name} and its color is: {self.color}, and origin is: {self.origin}!' \n",
    "\n",
    "    def dance(self):\n",
    "        return f'{self.name} is dancing in {self.color} lights'\n",
    "\n",
    "class Dog(Animal):\n",
    "    def __init__(self, name, color, origin = 'VIETNAM'):\n",
    "        super().__init__(name=name, color=color, origin=origin, speakWord='Gâu gâu')\n",
    "\n",
    "class Cat(Animal):\n",
    "    def __init__(self, name, color, origin = 'VIETNAM'):\n",
    "        super().__init__(name=name, color=color, origin=origin, speakWord='Meo meo')\n",
    "\n",
    "class Fish(Animal):\n",
    "    def __init__(self, name, color, origin = 'VIETNAM'):\n",
    "        super().__init__(name=name, color=color, origin=origin, speakWord='Blub blug')\n",
    "\n",
    "class BirdShark(Animal):\n",
    "    def __init__(self, name, color, origin = 'Atlantic'):\n",
    "        super().__init__(name=name, color=color, origin=origin, speakWord='...')\n",
    "\n",
    "       \n",
    "\n",
    "# web\n",
    "dog1 = Dog(name='Morty', color='Teal')\n",
    "print(dog1.print_a_picture())\n",
    "print(dog1.dance())\n",
    "\n",
    "print('-' * 20)\n",
    "\n",
    "cat1 = Cat(name='Morty', color='Teal')\n",
    "print(cat1.print_a_picture())\n",
    "print(cat1.dance())\n",
    "\n",
    "print('-' * 20)\n",
    "\n",
    "fish1 = Fish(name='Nemo', color='Orage')\n",
    "print(fish1.print_a_picture())\n",
    "print(fish1.dance())\n",
    "\n",
    "print('-' * 20)\n",
    "\n",
    "birdShark1 = BirdShark(name='I am the danger', color='Grey')\n",
    "print(birdShark1.print_a_picture())\n",
    "print(birdShark1.dance())\n",
    "\n"
   ]
  }
 ],
 "metadata": {
  "interpreter": {
   "hash": "8cac783c40538868f1a91ea51d8c19d01f3bffb416664ae6cfaa5179ecd90669"
  },
  "kernelspec": {
   "display_name": "Python 3.9.11 ('aio_2022_dev_env_39')",
   "language": "python",
   "name": "python3"
  },
  "language_info": {
   "codemirror_mode": {
    "name": "ipython",
    "version": 3
   },
   "file_extension": ".py",
   "mimetype": "text/x-python",
   "name": "python",
   "nbconvert_exporter": "python",
   "pygments_lexer": "ipython3",
   "version": "3.9.11"
  },
  "orig_nbformat": 4
 },
 "nbformat": 4,
 "nbformat_minor": 2
}
