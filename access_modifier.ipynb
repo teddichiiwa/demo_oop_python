{
 "cells": [
  {
   "cell_type": "code",
   "execution_count": 5,
   "metadata": {},
   "outputs": [
    {
     "name": "stdout",
     "output_type": "stream",
     "text": [
      "ACB\n",
      "123\n",
      "000\n"
     ]
    }
   ],
   "source": [
    "# access modifier\n",
    "# private\n",
    "# public\n",
    "# protected\n",
    "\n",
    "class Bank:\n",
    "    def __init__(self):\n",
    "        self.name = 'ACB'\n",
    "        self._doorKey = '123'\n",
    "        self.__secretPass = '999'\n",
    "\n",
    "bank = Bank()\n",
    "print(bank.name)\n",
    "\n",
    "print(bank._doorKey)\n",
    "bank._doorKey = '000'\n",
    "print(bank._doorKey)\n",
    "\n",
    "print(bank.__secretPass)"
   ]
  }
 ],
 "metadata": {
  "interpreter": {
   "hash": "8cac783c40538868f1a91ea51d8c19d01f3bffb416664ae6cfaa5179ecd90669"
  },
  "kernelspec": {
   "display_name": "Python 3.9.11 ('aio_2022_dev_env_39')",
   "language": "python",
   "name": "python3"
  },
  "language_info": {
   "codemirror_mode": {
    "name": "ipython",
    "version": 3
   },
   "file_extension": ".py",
   "mimetype": "text/x-python",
   "name": "python",
   "nbconvert_exporter": "python",
   "pygments_lexer": "ipython3",
   "version": "3.9.11"
  },
  "orig_nbformat": 4
 },
 "nbformat": 4,
 "nbformat_minor": 2
}
